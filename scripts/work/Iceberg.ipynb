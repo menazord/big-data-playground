{
 "cells": [
  {
   "cell_type": "code",
   "execution_count": 1,
   "id": "8617eac1-bb5d-4eb7-8aad-8ad9296c29fd",
   "metadata": {},
   "outputs": [
    {
     "name": "stdout",
     "output_type": "stream",
     "text": [
      "+-------------+\n",
      "|      catalog|\n",
      "+-------------+\n",
      "|    hive_prod|\n",
      "|spark_catalog|\n",
      "+-------------+\n",
      "\n",
      "+---------+\n",
      "|namespace|\n",
      "+---------+\n",
      "|  default|\n",
      "+---------+\n",
      "\n"
     ]
    }
   ],
   "source": [
    "from pyspark.sql import SparkSession\n",
    "\n",
    "spark = SparkSession \\\n",
    "    .builder \\\n",
    "    .getOrCreate()\n",
    "spark.sql(\"show catalogs\").show()\n",
    "spark.sql(\"show databases\").show()"
   ]
  },
  {
   "cell_type": "code",
   "execution_count": 2,
   "id": "d8f63823-1141-47fe-a504-7aa64c2e1df7",
   "metadata": {},
   "outputs": [
    {
     "name": "stdout",
     "output_type": "stream",
     "text": [
      "++\n",
      "||\n",
      "++\n",
      "++\n",
      "\n"
     ]
    }
   ],
   "source": [
    "spark.sql(\"CREATE DATABASE IF NOT EXISTS customer_db;\").show()"
   ]
  },
  {
   "cell_type": "code",
   "execution_count": 6,
   "id": "44296c55-320f-4bc2-808e-981fec6f3c2b",
   "metadata": {},
   "outputs": [
    {
     "name": "stdout",
     "output_type": "stream",
     "text": [
      "++\n",
      "||\n",
      "++\n",
      "++\n",
      "\n"
     ]
    }
   ],
   "source": [
    "spark.sql(\"USE customer_db\");\n",
    "spark.sql(\"\"\"\n",
    "CREATE TABLE customer_db.test002\n",
    "(\n",
    "  vendor_id bigint,\n",
    "  trip_id bigint,\n",
    "  trip_distance float,\n",
    "  fare_amount double,\n",
    "  store_and_fwd_flag string\n",
    ")\n",
    "USING iceberg\n",
    "PARTITIONED BY (vendor_id)\n",
    "OPTIONS ('format-version'='2')\n",
    ";\n",
    "\"\"\").show()"
   ]
  },
  {
   "cell_type": "code",
   "execution_count": 19,
   "id": "c3e6425c-64eb-4179-b374-ac1a7bff31ea",
   "metadata": {},
   "outputs": [
    {
     "name": "stdout",
     "output_type": "stream",
     "text": [
      "+-----------+---------+-----------+\n",
      "|  namespace|tableName|isTemporary|\n",
      "+-----------+---------+-----------+\n",
      "|customer_db|  test002|      false|\n",
      "+-----------+---------+-----------+\n",
      "\n"
     ]
    }
   ],
   "source": [
    "spark.sql(\"show tables\").show()"
   ]
  },
  {
   "cell_type": "code",
   "execution_count": 10,
   "id": "a0a4769e-a0be-41a0-9c90-fc6b07565e4f",
   "metadata": {},
   "outputs": [
    {
     "name": "stdout",
     "output_type": "stream",
     "text": [
      "++\n",
      "||\n",
      "++\n",
      "++\n",
      "\n"
     ]
    }
   ],
   "source": [
    "spark.sql(\"\"\"\n",
    "INSERT INTO customer_db.test002\n",
    "VALUES (1, 1000371, 1.8, 15.32, 'N'), (2, 1000372, 2.5, 22.15, 'N'), (2, 1000373, 0.9, 9.01, 'N'), (1, 1000374, 8.4, 42.13, 'Y');\n",
    "\"\"\").show()"
   ]
  },
  {
   "cell_type": "code",
   "execution_count": 11,
   "id": "130735cb-c75d-44bf-aa98-e71aeb926dcf",
   "metadata": {},
   "outputs": [
    {
     "name": "stdout",
     "output_type": "stream",
     "text": [
      "+---------+-------+-------------+-----------+------------------+\n",
      "|vendor_id|trip_id|trip_distance|fare_amount|store_and_fwd_flag|\n",
      "+---------+-------+-------------+-----------+------------------+\n",
      "|        1|1000371|          1.8|      15.32|                 N|\n",
      "|        1|1000374|          8.4|      42.13|                 Y|\n",
      "|        2|1000372|          2.5|      22.15|                 N|\n",
      "|        2|1000373|          0.9|       9.01|                 N|\n",
      "+---------+-------+-------------+-----------+------------------+\n",
      "\n"
     ]
    }
   ],
   "source": [
    "spark.sql(\"\"\"\n",
    "SELECT * FROM customer_db.test002\n",
    "\"\"\").show()"
   ]
  },
  {
   "cell_type": "code",
   "execution_count": 17,
   "id": "a5d2b9e0-96f5-4096-bab0-03620beb5952",
   "metadata": {},
   "outputs": [
    {
     "name": "stdout",
     "output_type": "stream",
     "text": [
      "+-------+--------------------+-----------+-------+---------+------------+------------------+--------------------+--------------------+--------------------+----------------+--------------------+--------------------+------------+-------------+------------+-------------+--------------------+--------------+---------------------+--------------------+\n",
      "|content|           file_path|file_format|spec_id|partition|record_count|file_size_in_bytes|        column_sizes|        value_counts|   null_value_counts|nan_value_counts|        lower_bounds|        upper_bounds|key_metadata|split_offsets|equality_ids|sort_order_id|referenced_data_file|content_offset|content_size_in_bytes|    readable_metrics|\n",
      "+-------+--------------------+-----------+-------+---------+------------+------------------+--------------------+--------------------+--------------------+----------------+--------------------+--------------------+------------+-------------+------------+-------------+--------------------+--------------+---------------------+--------------------+\n",
      "|      0|hdfs://namenode:9...|    PARQUET|      0|      {1}|           2|              1605|{1 -> 76, 2 -> 51...|{1 -> 2, 2 -> 2, ...|{1 -> 0, 2 -> 0, ...|{4 -> 0, 3 -> 0}|{1 -> [01 00 00 0...|{1 -> [01 00 00 0...|        NULL|          [4]|        NULL|            0|                NULL|          NULL|                 NULL|{{51, 2, 0, 0, 15...|\n",
      "|      0|hdfs://namenode:9...|    PARQUET|      0|      {2}|           2|              1650|{1 -> 76, 2 -> 51...|{1 -> 2, 2 -> 2, ...|{1 -> 0, 2 -> 0, ...|{4 -> 0, 3 -> 0}|{1 -> [02 00 00 0...|{1 -> [02 00 00 0...|        NULL|          [4]|        NULL|            0|                NULL|          NULL|                 NULL|{{51, 2, 0, 0, 9....|\n",
      "+-------+--------------------+-----------+-------+---------+------------+------------------+--------------------+--------------------+--------------------+----------------+--------------------+--------------------+------------+-------------+------------+-------------+--------------------+--------------+---------------------+--------------------+\n",
      "\n"
     ]
    }
   ],
   "source": [
    "spark.sql(\"\"\"\n",
    "SELECT * FROM customer_db.test002.files\n",
    "\"\"\").show()"
   ]
  },
  {
   "cell_type": "code",
   "execution_count": 18,
   "id": "50128578-d49b-4dea-bdf6-95c6a57bddab",
   "metadata": {},
   "outputs": [
    {
     "name": "stdout",
     "output_type": "stream",
     "text": [
      "+--------------------+------------------+---------+-------------------+\n",
      "|     made_current_at|       snapshot_id|parent_id|is_current_ancestor|\n",
      "+--------------------+------------------+---------+-------------------+\n",
      "|2025-04-13 02:12:...|872830672140336580|     NULL|               true|\n",
      "+--------------------+------------------+---------+-------------------+\n",
      "\n"
     ]
    }
   ],
   "source": [
    "spark.sql(\"\"\"\n",
    "SELECT * FROM customer_db.test002.history\n",
    "\"\"\").show()"
   ]
  }
 ],
 "metadata": {
  "kernelspec": {
   "display_name": "Python 3 (ipykernel)",
   "language": "python",
   "name": "python3"
  },
  "language_info": {
   "codemirror_mode": {
    "name": "ipython",
    "version": 3
   },
   "file_extension": ".py",
   "mimetype": "text/x-python",
   "name": "python",
   "nbconvert_exporter": "python",
   "pygments_lexer": "ipython3",
   "version": "3.11.6"
  }
 },
 "nbformat": 4,
 "nbformat_minor": 5
}
