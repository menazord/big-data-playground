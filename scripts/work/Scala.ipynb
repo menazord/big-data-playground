{
 "cells": [
  {
   "cell_type": "code",
   "execution_count": null,
   "id": "349e201b-242d-44df-9938-1509ea094ce5",
   "metadata": {},
   "outputs": [],
   "source": [
    "spark.sql(\"show catalogs\").show()"
   ]
  },
  {
   "cell_type": "code",
   "execution_count": null,
   "id": "73aabd5d-bf1c-4aa1-88b6-6b93432c312a",
   "metadata": {},
   "outputs": [],
   "source": [
    "spark.sql(\"show databases\").show()"
   ]
  },
  {
   "cell_type": "code",
   "execution_count": null,
   "id": "5b58a8a9-abf7-4e5b-8c2f-19554fbe07a7",
   "metadata": {},
   "outputs": [],
   "source": [
    "sc.version"
   ]
  }
 ],
 "metadata": {
  "kernelspec": {
   "display_name": "Apache Toree - Scala",
   "language": "scala",
   "name": "apache_toree_scala"
  },
  "language_info": {
   "codemirror_mode": "text/x-scala",
   "file_extension": ".scala",
   "mimetype": "text/x-scala",
   "name": "scala",
   "pygments_lexer": "scala",
   "version": "2.12.15"
  }
 },
 "nbformat": 4,
 "nbformat_minor": 5
}
